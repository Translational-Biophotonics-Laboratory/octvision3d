{
 "cells": [
  {
   "cell_type": "code",
   "execution_count": 55,
   "metadata": {},
   "outputs": [],
   "source": [
    "import nrrd\n",
    "import numpy as np\n",
    "import matplotlib.pyplot as plt\n",
    "import seaborn as sns\n",
    "import pandas as pd\n",
    "from octvision3d.utils import get_filenames\n",
    "from tqdm import tqdm"
   ]
  },
  {
   "cell_type": "code",
   "execution_count": null,
   "metadata": {},
   "outputs": [],
   "source": [
    "### Used to plot the number of pixel labels per category in 3DSlicer .seg.nrrd files"
   ]
  },
  {
   "cell_type": "code",
   "execution_count": 56,
   "metadata": {},
   "outputs": [],
   "source": [
    "path = \"/home/mstudxk5/Desktop/check_for_blank_pixels\""
   ]
  },
  {
   "cell_type": "code",
   "execution_count": 65,
   "metadata": {},
   "outputs": [
    {
     "name": "stderr",
     "output_type": "stream",
     "text": [
      "100%|██████████| 70/70 [00:52<00:00,  1.33it/s]\n"
     ]
    }
   ],
   "source": [
    "filenames = get_filenames(path, \"seg.nrrd\")\n",
    "\n",
    "label_counts = None\n",
    "for i, f in tqdm(enumerate(filenames), total=len(filenames)):\n",
    "    bitmap, header = nrrd.read(f)\n",
    "\n",
    "    \n",
    "    segment_names = {k.split(\"_\")[0]: v for k, v in header.items() if k.endswith(\"Name\")}\n",
    "    sorted_name_map = natural_sort(segment_names.items())\n",
    "    _, sorted_names = list(zip(*sorted_name_map))\n",
    "\n",
    "\n",
    "    if i == 0:\n",
    "        label_counts = np.sum(bitmap, axis=tuple(range(1, bitmap.ndim)))\n",
    "    else:\n",
    "        label_counts += np.sum(bitmap, axis=tuple(range(1, bitmap.ndim)))\n",
    "\n",
    "df = pd.DataFrame(list(zip(sorted_names, label_counts)), columns=[\"Label\", \"Number of Pixels\"])\n"
   ]
  },
  {
   "cell_type": "code",
   "execution_count": 66,
   "metadata": {},
   "outputs": [
    {
     "name": "stdout",
     "output_type": "stream",
     "text": [
      "[0, 0, 0, 0, 0, 0, 9840637, 101893176, 344988591, 179740054, 2293101, 9057659, 37349038, 0, 0]\n",
      "   Label  Number of Pixels\n",
      "0    CNV                 0\n",
      "1    DRU                 0\n",
      "2     EX                 0\n",
      "3    FLU                 0\n",
      "4     GA                 0\n",
      "5    HEM                 0\n",
      "6    RPE           9840637\n",
      "7    RET         101893176\n",
      "8    CHO         344988591\n",
      "9    VIT         179740054\n",
      "10   HYA           2293101\n",
      "11   SHS           9057659\n",
      "12   ART          37349038\n",
      "13   ERM                 0\n",
      "14   SES                 0\n"
     ]
    }
   ],
   "source": [
    "print(label_counts.tolist())\n",
    "print(df)"
   ]
  },
  {
   "cell_type": "code",
   "execution_count": 69,
   "metadata": {},
   "outputs": [
    {
     "data": {
      "text/plain": [
       "<Axes: xlabel='Label', ylabel='Number of Pixels'>"
      ]
     },
     "execution_count": 69,
     "metadata": {},
     "output_type": "execute_result"
    },
    {
     "data": {
      "image/png": "[encoded data removed]",
      "text/plain": [
       "<Figure size 640x480 with 1 Axes>"
      ]
     },
     "metadata": {},
     "output_type": "display_data"
    }
   ],
   "source": [
    "sns.barplot(data=df, x=\"Label\", y=\"Number of Pixels\", hue=\"Label\")"
   ]
  },
  {
   "cell_type": "code",
   "execution_count": null,
   "metadata": {},
   "outputs": [],
   "source": []
  }
 ],
 "metadata": {
  "kernelspec": {
   "display_name": "Python 3 (ipykernel)",
   "language": "python",
   "name": "python3"
  },
  "language_info": {
   "codemirror_mode": {
    "name": "ipython",
    "version": 3
   },
   "file_extension": ".py",
   "mimetype": "text/x-python",
   "name": "python",
   "nbconvert_exporter": "python",
   "pygments_lexer": "ipython3",
   "version": "3.9.13"
  }
 },
 "nbformat": 4,
 "nbformat_minor": 4
}
