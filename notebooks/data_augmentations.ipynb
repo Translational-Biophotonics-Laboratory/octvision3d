{
 "cells": [
  {
   "cell_type": "code",
   "execution_count": 7,
   "id": "55e07d57-f3af-4483-b348-18dfec00664c",
   "metadata": {},
   "outputs": [],
   "source": [
    "import matplotlib.pyplot as plt\n",
    "import nnunetv2\n",
    "from nnunetv2.training.dataloading.data_loader_2d import nnUNetDataLoader2D\n",
    "from nnunetv2.training.dataloading.data_loader_3d import nnUNetDataLoader3D\n",
    "from nnunetv2.training.dataloading.nnunet_dataset import nnUNetDataset"
   ]
  },
  {
   "cell_type": "code",
   "execution_count": null,
   "id": "d24ac3ab-9bf8-431f-8881-705f06021b9e",
   "metadata": {},
   "outputs": [],
   "source": [
    "\n",
    "# From nnUNetTrainer.py line 620\n",
    "dataset_tr = nnUNetDataset(\n",
    "    self.preprocessed_dataset_folder,\n",
    "    tr_keys,\n",
    "    folder_with_segs_from_previous_stage=self.folder_with_segs_from_previous_stage,\n",
    "    num_images_properties_loading_threshold=0\n",
    ")\n",
    "\n",
    "nnUNetDataLoader2D(\n",
    "    dataset_tr,\n",
    "    self.batch_size,\n",
    "    initial_patch_size,\n",
    "    self.configuration_manager.patch_size,\n",
    "    self.label_manager,\n",
    "    oversample_foreground_percent=self.oversample_foreground_percent,\n",
    "    sampling_probabilities=None, pad_sides=None, transforms=tr_transforms\n",
    ")\n"
   ]
  },
  {
   "cell_type": "code",
   "execution_count": null,
   "id": "eff4f7d4-18a9-4a00-ae94-3e6a45465003",
   "metadata": {},
   "outputs": [],
   "source": []
  }
 ],
 "metadata": {
  "kernelspec": {
   "display_name": "octvision3d",
   "language": "python",
   "name": "octvision3d"
  },
  "language_info": {
   "codemirror_mode": {
    "name": "ipython",
    "version": 3
   },
   "file_extension": ".py",
   "mimetype": "text/x-python",
   "name": "python",
   "nbconvert_exporter": "python",
   "pygments_lexer": "ipython3",
   "version": "3.9.13"
  }
 },
 "nbformat": 4,
 "nbformat_minor": 5
}
