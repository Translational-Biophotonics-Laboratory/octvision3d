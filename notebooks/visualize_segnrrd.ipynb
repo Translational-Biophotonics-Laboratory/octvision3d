{
 "cells": [
  {
   "cell_type": "code",
   "execution_count": 44,
   "metadata": {},
   "outputs": [],
   "source": [
    "import tifffile as tif\n",
    "from glob import glob\n",
    "from collections import OrderedDict\n",
    "import nrrd\n",
    "import os\n",
    "import matplotlib.pyplot as plt\n",
    "import cv2\n",
    "import re\n",
    "import numpy as np\n",
    "from octvision3d.utils import get_filenames, bgr2rgb, natural_sort\n",
    "\n",
    "DEBUG = True"
   ]
  },
  {
   "cell_type": "code",
   "execution_count": 45,
   "metadata": {},
   "outputs": [],
   "source": [
    "# def get_filenames(path, ext):\n",
    "#     return sorted(glob(f\"{path}/*.{ext}\"))\n",
    "\n",
    "# def bgr2rgb(image):\n",
    "#     return cv2.cvtColor(image, cv2.COLOR_BGR2RGB)\n",
    "\n",
    "# def natural_sort_key(s, _nsre=re.compile('([0-9]+)')):\n",
    "#     return [int(text) if text.isdigit() else text.lower()\n",
    "#             for text in _nsre.split(s)]"
   ]
  },
  {
   "cell_type": "code",
   "execution_count": 46,
   "metadata": {},
   "outputs": [],
   "source": [
    "dir_path = \"/data/dkermany_data/OCT/phase-5/NORMAL-10\""
   ]
  },
  {
   "cell_type": "code",
   "execution_count": 47,
   "metadata": {},
   "outputs": [
    {
     "name": "stdout",
     "output_type": "stream",
     "text": [
      "['/data/dkermany_data/OCT/phase-5/NORMAL-10/RAI02_2-0279939-1XX-X-XXX-0-01-00000-9-3D.tif', '/data/dkermany_data/OCT/phase-5/NORMAL-10/RAI02_2-0279939-1XX-X-XXX-0-11-00000-9-3D.tif', '/data/dkermany_data/OCT/phase-5/NORMAL-10/RAI02_2-0279939-1XX-X-XXX-0-44-00000-9-3D.tif', '/data/dkermany_data/OCT/phase-5/NORMAL-10/RAI02_2-0279939-1XX-X-XXX-0-54-00000-9-3D.tif', '/data/dkermany_data/OCT/phase-5/NORMAL-10/RAI02_2-0279939-1XX-X-XXX-0-59-00000-9-3D.tif']\n"
     ]
    }
   ],
   "source": [
    "vol_paths = [f for f in get_filenames(dir_path, \"tif\") if \"slo\" not in f]\n",
    "seg_paths = [f for f in get_filenames(dir_path, \"seg.nrrd\")]\n",
    "assert len(vol_paths) == len(seg_paths)\n",
    "print(vol_paths)"
   ]
  },
  {
   "cell_type": "code",
   "execution_count": null,
   "metadata": {},
   "outputs": [],
   "source": []
  },
  {
   "cell_type": "code",
   "execution_count": 48,
   "metadata": {},
   "outputs": [],
   "source": [
    "def overlay_segments(segments, colors):\n",
    "    \"\"\"\n",
    "    Overlay binary masks onto a blank image with specified colors.\n",
    "\n",
    "    :param masks: List of binary masks (numpy arrays).\n",
    "    :param colors: List of colors corresponding to each mask.\n",
    "    :return: Image with masks overlaid.\n",
    "    \"\"\"\n",
    "    # Create a blank image\n",
    "\n",
    "    final_images = np.zeros(segments.T.shape[:-1] + (3,), dtype=np.uint8)\n",
    "\n",
    "    for segment, color in zip(segments, colors):\n",
    "        for i, slice in enumerate(segment.T):\n",
    "            bgr_image = cv2.cvtColor(slice, cv2.COLOR_GRAY2BGR)\n",
    "            final_images[i] += bgr_image * color\n",
    "\n",
    "    return final_images"
   ]
  },
  {
   "cell_type": "code",
   "execution_count": 49,
   "metadata": {},
   "outputs": [],
   "source": [
    "def check_unlabeled_pixels(bitmap):\n",
    "    print(bitmap.shape)\n",
    "    for segment in bitmap:\n",
    "        print(segment.T.shape)"
   ]
  },
  {
   "cell_type": "code",
   "execution_count": 52,
   "metadata": {},
   "outputs": [
    {
     "name": "stdout",
     "output_type": "stream",
     "text": [
      "Name: RAI02_2-0279939-1XX-X-XXX-0-01-00000-9-3D\n",
      "TIFF type: <class 'numpy.ndarray'>, TIFF shape: (19, 496, 1024), SEG.NRRD type: <class 'numpy.ndarray'>, SEG.NRRD shape: (14, 1024, 496, 19)\n",
      "segment_names: {'Segment0': 'CNV', 'Segment10': 'HYA', 'Segment11': 'SHS', 'Segment12': 'ART', 'Segment13': 'ERM', 'Segment1': 'DRU', 'Segment2': 'EX', 'Segment3': 'FLU', 'Segment4': 'GA', 'Segment5': 'HEM', 'Segment6': 'RPE', 'Segment7': 'RET', 'Segment8': 'CHO', 'Segment9': 'VIT'}\n",
      "segment_colors: {'Segment0': '0.501961 0.682353 0.501961', 'Segment10': '0.46 0.98 0.99', 'Segment11': '0.69 0.99 0.82', 'Segment12': '0.99 0.99 0.33', 'Segment13': '0.22 0.49 0.97', 'Segment1': '0.945098 0.839216 0.568627', 'Segment2': '0.694118 0.478431 0.396078', 'Segment3': '0.435294 0.721569 0.823529', 'Segment4': '0.847059 0.396078 0.309804', 'Segment5': '0.866667 0.509804 0.396078', 'Segment6': '0.564706 0.933333 0.564706', 'Segment7': '0.635 0 1', 'Segment8': '0.56 0.56 0.44', 'Segment9': '0.88 0.94 0.99'}\n",
      "sorted_color_map: [('Segment0', '0.501961 0.682353 0.501961'), ('Segment1', '0.945098 0.839216 0.568627'), ('Segment2', '0.694118 0.478431 0.396078'), ('Segment3', '0.435294 0.721569 0.823529'), ('Segment4', '0.847059 0.396078 0.309804'), ('Segment5', '0.866667 0.509804 0.396078'), ('Segment6', '0.564706 0.933333 0.564706'), ('Segment7', '0.635 0 1'), ('Segment8', '0.56 0.56 0.44'), ('Segment9', '0.88 0.94 0.99'), ('Segment10', '0.46 0.98 0.99'), ('Segment11', '0.69 0.99 0.82'), ('Segment12', '0.99 0.99 0.33'), ('Segment13', '0.22 0.49 0.97')]\n",
      "sorted_colors: ('0.501961 0.682353 0.501961', '0.945098 0.839216 0.568627', '0.694118 0.478431 0.396078', '0.435294 0.721569 0.823529', '0.847059 0.396078 0.309804', '0.866667 0.509804 0.396078', '0.564706 0.933333 0.564706', '0.635 0 1', '0.56 0.56 0.44', '0.88 0.94 0.99', '0.46 0.98 0.99', '0.69 0.99 0.82', '0.99 0.99 0.33', '0.22 0.49 0.97')\n",
      "rgb_colors: [[128 174 128]\n",
      " [241 214 145]\n",
      " [177 122 101]\n",
      " [111 184 210]\n",
      " [216 101  79]\n",
      " [221 130 101]\n",
      " [144 238 144]\n",
      " [162   0 255]\n",
      " [143 143 112]\n",
      " [224 240 252]\n",
      " [117 250 252]\n",
      " [176 252 209]\n",
      " [252 252  84]\n",
      " [ 56 125 247]]\n",
      "(14, 1024, 496, 19)\n",
      "(19, 496, 1024)\n",
      "(19, 496, 1024)\n",
      "(19, 496, 1024)\n",
      "(19, 496, 1024)\n",
      "(19, 496, 1024)\n",
      "(19, 496, 1024)\n",
      "(19, 496, 1024)\n",
      "(19, 496, 1024)\n",
      "(19, 496, 1024)\n",
      "(19, 496, 1024)\n",
      "(19, 496, 1024)\n",
      "(19, 496, 1024)\n",
      "(19, 496, 1024)\n",
      "(19, 496, 1024)\n"
     ]
    }
   ],
   "source": [
    "pattern = re.compile(\"^Segment\\d+\")\n",
    "\n",
    "for vol_path, seg_path in zip(vol_paths, seg_paths):\n",
    "\n",
    "    vol = tif.imread(vol_path)\n",
    "    bitmap, header = nrrd.read(seg_path)\n",
    "    segment_colors = {k.split(\"_\")[0]: v for k, v in header.items() if k.endswith(\"Color\")}\n",
    "    segment_names = {k.split(\"_\")[0]: v for k, v in header.items() if k.endswith(\"Name\")}\n",
    "    sorted_color_map = sorted(segment_colors.items(), key=lambda x: natural_sort_key(x[0]))\n",
    "    sorted_color_map = natural_sort(segment_colors.items())\n",
    "    _, sorted_colors = list(zip(*sorted_color_map))\n",
    "    rgb_colors = np.array([[round(255.*float(c)) for c in i.split(\" \")] for i in sorted_colors], dtype=np.uint8)\n",
    "\n",
    "    if DEBUG:\n",
    "        print(f\"Name: {os.path.splitext(os.path.basename(vol_path))[0]}\")\n",
    "        print(f\"TIFF type: {type(vol)}, TIFF shape: {vol.shape}, SEG.NRRD type: {type(bitmap)}, SEG.NRRD shape: {bitmap.shape}\")\n",
    "        print(f\"segment_names: {segment_names}\")\n",
    "        print(f\"segment_colors: {segment_colors}\")\n",
    "        print(f\"sorted_color_map: {sorted_color_map}\")\n",
    "        print(f\"sorted_colors: {sorted_colors}\")\n",
    "        print(f\"rgb_colors: {rgb_colors}\")\n",
    "\n",
    "\n",
    "    # seg_vol = overlay_segments(bitmap, rgb_colors)\n",
    "    check_unlabeled_pixels(bitmap)\n",
    "\n",
    "    # for seg_slice, vol_slice in zip(seg_vol, vol):\n",
    "    #     f, ax = plt.subplots(1,2, figsize=(25,14))\n",
    "    #     ax[0].imshow(seg_slice)\n",
    "    #     ax[1].imshow(vol_slice, cmap=\"gray\")\n",
    "    break\n",
    "\n",
    "    "
   ]
  },
  {
   "cell_type": "code",
   "execution_count": null,
   "metadata": {},
   "outputs": [],
   "source": []
  },
  {
   "cell_type": "code",
   "execution_count": null,
   "metadata": {},
   "outputs": [],
   "source": []
  }
 ],
 "metadata": {
  "kernelspec": {
   "display_name": "3DOCT",
   "language": "python",
   "name": "3doct"
  },
  "language_info": {
   "codemirror_mode": {
    "name": "ipython",
    "version": 3
   },
   "file_extension": ".py",
   "mimetype": "text/x-python",
   "name": "python",
   "nbconvert_exporter": "python",
   "pygments_lexer": "ipython3",
   "version": "3.9.13"
  }
 },
 "nbformat": 4,
 "nbformat_minor": 2
}
