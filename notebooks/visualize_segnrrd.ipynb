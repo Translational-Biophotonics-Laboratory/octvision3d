{
 "cells": [
  {
   "cell_type": "code",
   "execution_count": 1,
   "metadata": {},
   "outputs": [],
   "source": [
    "import tifffile as tif\n",
    "from glob import glob\n",
    "from collections import OrderedDict\n",
    "import nrrd\n",
    "import os\n",
    "import matplotlib.pyplot as plt\n",
    "import cv2\n",
    "import re\n",
    "import numpy as np\n",
    "from octvision3d.utils import get_filenames, natural_sort, overlay_segments, sorted_rgb_colors\n",
    "\n",
    "DEBUG = False"
   ]
  },
  {
   "cell_type": "code",
   "execution_count": 3,
   "metadata": {},
   "outputs": [],
   "source": [
    "dir_path = \"/data/dkermany_data/OCT/phase-5/NORMAL-10\""
   ]
  },
  {
   "cell_type": "code",
   "execution_count": 4,
   "metadata": {},
   "outputs": [
    {
     "name": "stdout",
     "output_type": "stream",
     "text": [
      "['/data/dkermany_data/OCT/phase-5/NORMAL-10/RAI02_2-0279939-1XX-X-XXX-0-01-00000-9-3D.tif', '/data/dkermany_data/OCT/phase-5/NORMAL-10/RAI02_2-0279939-1XX-X-XXX-0-11-00000-9-3D.tif', '/data/dkermany_data/OCT/phase-5/NORMAL-10/RAI02_2-0279939-1XX-X-XXX-0-44-00000-9-3D.tif', '/data/dkermany_data/OCT/phase-5/NORMAL-10/RAI02_2-0279939-1XX-X-XXX-0-54-00000-9-3D.tif', '/data/dkermany_data/OCT/phase-5/NORMAL-10/RAI02_2-0279939-1XX-X-XXX-0-59-00000-9-3D.tif']\n"
     ]
    }
   ],
   "source": [
    "vol_paths = [f for f in get_filenames(dir_path, \"tif\") if \"slo\" not in f]\n",
    "seg_paths = [f for f in get_filenames(dir_path, \"seg.nrrd\")]\n",
    "assert len(vol_paths) == len(seg_paths)\n",
    "print(vol_paths)"
   ]
  },
  {
   "cell_type": "code",
   "execution_count": 14,
   "metadata": {},
   "outputs": [
    {
     "name": "stdout",
     "output_type": "stream",
     "text": [
      "No unlabeled pixels found in RAI02_2-0279939-1XX-X-XXX-0-01-00000-9-3D.seg.nrrd\n",
      "No unlabeled pixels found in RAI02_2-0279939-1XX-X-XXX-0-11-00000-9-3D.seg.nrrd\n",
      "No unlabeled pixels found in RAI02_2-0279939-1XX-X-XXX-0-44-00000-9-3D.seg.nrrd\n",
      "No unlabeled pixels found in RAI02_2-0279939-1XX-X-XXX-0-54-00000-9-3D.seg.nrrd\n",
      "No unlabeled pixels found in RAI02_2-0279939-1XX-X-XXX-0-59-00000-9-3D.seg.nrrd\n"
     ]
    }
   ],
   "source": [
    "pattern = re.compile(\"^Segment\\d+\")\n",
    "for vol_path, seg_path in zip(vol_paths, seg_paths):\n",
    "    vol = tif.imread(vol_path)\n",
    "    bitmap, header = nrrd.read(seg_path)\n",
    "\n",
    "    segment_names = {k.split(\"_\")[0]: v for k, v in header.items() if k.endswith(\"Name\")}\n",
    "    sorted_name_map = natural_sort(segment_names.items())\n",
    "    _, sorted_names = list(zip(*sorted_name_map))\n",
    "\n",
    "    rgb_colors = sorted_rgb_colors(header)\n",
    "\n",
    "    if DEBUG:\n",
    "        print(f\"Name: {os.path.splitext(os.path.basename(vol_path))[0]}\")\n",
    "        print(f\"TIFF type: {type(vol)}, TIFF shape: {vol.shape}, SEG.NRRD type: {type(bitmap)}, SEG.NRRD shape: {bitmap.shape}\")\n",
    "        print(f\"sorted_name_map: {sorted_name_map}\")\n",
    "        print(f\"sorted_names: {sorted_names}\")\n",
    "        print(f\"rgb_colors: {rgb_colors}\")\n",
    "\n",
    "    overlay = overlay_segments(bitmap, rgb_colors)\n",
    "\n",
    "    for overlay_slice, vol_slice in zip(overlay, vol):\n",
    "        f, ax = plt.subplots(1,2, figsize=(25,14))\n",
    "        ax[0].imshow(overlay_slice)\n",
    "        ax[1].imshow(vol_slice, cmap=\"gray\")\n",
    "    break"
   ]
  }
 ],
 "metadata": {
  "kernelspec": {
   "display_name": "3DOCT",
   "language": "python",
   "name": "3doct"
  },
  "language_info": {
   "codemirror_mode": {
    "name": "ipython",
    "version": 3
   },
   "file_extension": ".py",
   "mimetype": "text/x-python",
   "name": "python",
   "nbconvert_exporter": "python",
   "pygments_lexer": "ipython3",
   "version": "3.9.13"
  }
 },
 "nbformat": 4,
 "nbformat_minor": 2
}
