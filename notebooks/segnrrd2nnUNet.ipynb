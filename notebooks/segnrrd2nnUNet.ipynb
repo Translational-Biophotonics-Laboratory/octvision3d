{
 "cells": [
  {
   "cell_type": "code",
   "execution_count": 1,
   "metadata": {},
   "outputs": [],
   "source": [
    "import os\n",
    "import nrrd\n",
    "import numpy as np\n",
    "import tifffile as tif\n",
    "\n",
    "from octvision3d.utils import get_filenames, create_dataset_dirs, save_json, generate_dataset_json"
   ]
  },
  {
   "cell_type": "code",
   "execution_count": 2,
   "metadata": {},
   "outputs": [],
   "source": [
    "# dir_path = \"/data/dkermany_data/3D-OCT/first-batch-labeled\"\n",
    "dir_path = \"/Users/danielkermany/Downloads/ERM-3/\"\n",
    "output_path = os.path.join(dir_path, \"nnUNet_Dataset\")"
   ]
  },
  {
   "cell_type": "code",
   "execution_count": 4,
   "metadata": {},
   "outputs": [],
   "source": [
    "create_dataset_dirs(output_path)\n",
    "imagesTr = os.path.join(output_path, \"imagesTr\")\n",
    "labelsTr = os.path.join(output_path, \"labelsTr\")\n",
    "\n",
    "labels_dict = {\n",
    "    \"CNV\": 1,\n",
    "    \"DRU\": 2,\n",
    "    \"EX\": 3,\n",
    "    \"FLU\": 4,\n",
    "    \"GA\": 5,\n",
    "    \"HEM\": 6,\n",
    "    \"RPE\": 7,\n",
    "    \"RET\": 8,\n",
    "    \"CHO\": 9,\n",
    "    \"VIT\": 10,\n",
    "    \"HYA\": 11,\n",
    "    \"SHS\": 12,\n",
    "    \"ART\": 13,\n",
    "    \"ERM\": 14,\n",
    "    \"SES\": 15\n",
    "}"
   ]
  },
  {
   "cell_type": "code",
   "execution_count": 5,
   "metadata": {},
   "outputs": [],
   "source": [
    "vol_paths = [i for i in get_filenames(dir_path, ext=\"tif\") if \"slo\" not in i]\n",
    "seg_paths = [i for i in get_filenames(dir_path, ext=\"seg.nrrd\") if \"slo\" not in i]\n",
    "for vol_path, seg_path in zip(vol_paths, seg_paths):\n",
    "    assert vol_path.split(\".\")[0] == seg_path.split(\".\")[0]\n",
    "    vol_name = os.path.splitext(os.path.basename(vol_path))[0]\n",
    "    seg_name = os.path.basename(vol_path).split(\".\")[0]\n",
    "\n",
    "    # Load TIFF volume and seg.nrrd labels\n",
    "    vol = tif.imread(vol_path)\n",
    "    bitmap, header = nrrd.read(seg_path)\n",
    "\n",
    "    # One-Hot Bitmap to Labels\n",
    "    # Flipping array from (X, Y, Z) to (Z, Y, X)\n",
    "    labels = np.argmax(bitmap, axis=0).T\n",
    "    \n",
    "    # Save spacing json\n",
    "    save_json({\"spacing\": [81.0, 1.0, 2.9]}, os.path.join(imagesTr, f\"{vol_name}.json\"))\n",
    "    save_json({\"spacing\": [81.0, 1.0, 2.9]}, os.path.join(labelsTr, f\"{seg_name}.json\"))\n",
    "\n",
    "    # Save vol and label tiff images\n",
    "    output_tif = os.path.join(imagesTr, f\"{vol_name}_0000.tif\")\n",
    "    output_labels = os.path.join(labelsTr, f\"{seg_name}.tif\")\n",
    "    tif.imwrite(output_tif, vol, photometric='minisblack')\n",
    "    tif.imwrite(output_labels, labels, photometric='minisblack')\n",
    "\n",
    "generate_dataset_json(output_path, \n",
    "                      channel_names={\"0\": \"OCT\"},\n",
    "                      labels=labels_dict,\n",
    "                      file_ending=\".tif\",\n",
    "                      num_training_cases=len(vol_paths),\n",
    "                      dataset_name=\"3D OCT Dataset\")"
   ]
  }
 ],
 "metadata": {
  "kernelspec": {
   "display_name": "Python 3 (ipykernel)",
   "language": "python",
   "name": "python3"
  },
  "language_info": {
   "codemirror_mode": {
    "name": "ipython",
    "version": 3
   },
   "file_extension": ".py",
   "mimetype": "text/x-python",
   "name": "python",
   "nbconvert_exporter": "python",
   "pygments_lexer": "ipython3",
   "version": "3.9.17"
  }
 },
 "nbformat": 4,
 "nbformat_minor": 4
}
