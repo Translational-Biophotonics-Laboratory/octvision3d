{
 "cells": [
  {
   "cell_type": "code",
   "execution_count": 4,
   "metadata": {},
   "outputs": [],
   "source": [
    "import tifffile as tif\n",
    "from collections import OrderedDict\n",
    "import nrrd\n",
    "import os\n",
    "import matplotlib.pyplot as plt\n",
    "import cv2\n",
    "import re\n",
    "import numpy as np\n",
    "from pprint import pprint\n",
    "\n",
    "from octvision3d.utils import get_filenames\n"
   ]
  },
  {
   "cell_type": "code",
   "execution_count": 5,
   "metadata": {},
   "outputs": [],
   "source": [
    "dir_path = \"/data/dkermany_data/3D-OCT/first-batch-labeled\""
   ]
  },
  {
   "cell_type": "code",
   "execution_count": 18,
   "metadata": {},
   "outputs": [
    {
     "ename": "SyntaxError",
     "evalue": "invalid syntax (2988276572.py, line 2)",
     "output_type": "error",
     "traceback": [
      "\u001b[0;36m  Cell \u001b[0;32mIn[18], line 2\u001b[0;36m\u001b[0m\n\u001b[0;31m    for i in [\"imagesTr\", ]\u001b[0m\n\u001b[0m                           ^\u001b[0m\n\u001b[0;31mSyntaxError\u001b[0m\u001b[0;31m:\u001b[0m invalid syntax\n"
     ]
    }
   ],
   "source": [
    "def create_dataset_dirs(path):\n",
    "    for i in [\"imagesTr\", \"imagesTs\", \"labelsTr\", \"labelsTs\"]:\n",
    "        if not os.path.exists(os.path.join(path, i)):\n",
    "            os.makedirs(os.path.join(path, i), exist_ok=True)"
   ]
  },
  {
   "cell_type": "code",
   "execution_count": null,
   "metadata": {},
   "outputs": [],
   "source": [
    "create_dataset_dirs(dir_path)"
   ]
  },
  {
   "cell_type": "code",
   "execution_count": 20,
   "metadata": {},
   "outputs": [],
   "source": [
    "tif_paths = get_filenames(dir_path, ext=\"tif\")\n",
    "label_paths = get_filenames(dir_path, ext=\"seg.nrrd\")\n",
    "for tif_path, label_path in zip(tif_paths, label_paths):\n",
    "    assert tif_path.split(\".\")[0] == label_path.split(\".\")[0]\n",
    "    # TODO move tif file to imagesTr\n",
    "    # TODO convert seg.nrrd to one-channel tif and move to labelsTr\n",
    "    # TODO make json file to specify tif spacing"
   ]
  },
  {
   "cell_type": "code",
   "execution_count": null,
   "metadata": {},
   "outputs": [],
   "source": []
  }
 ],
 "metadata": {
  "kernelspec": {
   "display_name": "3DOCT",
   "language": "python",
   "name": "3doct"
  },
  "language_info": {
   "codemirror_mode": {
    "name": "ipython",
    "version": 3
   },
   "file_extension": ".py",
   "mimetype": "text/x-python",
   "name": "python",
   "nbconvert_exporter": "python",
   "pygments_lexer": "ipython3",
   "version": "3.9.13"
  }
 },
 "nbformat": 4,
 "nbformat_minor": 2
}
