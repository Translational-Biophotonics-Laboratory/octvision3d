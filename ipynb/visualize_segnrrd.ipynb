{
 "cells": [
  {
   "cell_type": "code",
   "execution_count": null,
   "metadata": {},
   "outputs": [],
   "source": [
    "import tifffile as tif\n",
    "from glob import glob\n",
    "from collections import OrderedDict\n",
    "import nrrd\n",
    "import os\n",
    "import matplotlib.pyplot as plt\n",
    "import cv2\n",
    "import re\n",
    "import numpy as np"
   ]
  },
  {
   "cell_type": "code",
   "execution_count": null,
   "metadata": {},
   "outputs": [],
   "source": [
    "def get_filenames(path, ext):\n",
    "    return sorted(glob(f\"{path}/*.{ext}\"))\n",
    "\n",
    "def bgr2rgb(image):\n",
    "    return cv2.cvtColor(image, cv2.COLOR_BGR2RGB)\n",
    "\n",
    "def natural_sort_key(s, _nsre=re.compile('([0-9]+)')):\n",
    "    return [int(text) if text.isdigit() else text.lower()\n",
    "            for text in _nsre.split(s)]"
   ]
  },
  {
   "cell_type": "code",
   "execution_count": null,
   "metadata": {},
   "outputs": [],
   "source": [
    "dir_path = \"/data/dkermany_data/3D-OCT/first-batch-labeled/GD_NORMAL-3\""
   ]
  },
  {
   "cell_type": "code",
   "execution_count": null,
   "metadata": {},
   "outputs": [],
   "source": [
    "vol_paths = [f for f in get_filenames(dir_path, \"tif\") if \"slo\" not in f]\n",
    "seg_paths = [f for f in get_filenames(dir_path, \"seg.nrrd\")]\n",
    "assert len(vol_paths) == len(seg_paths)"
   ]
  },
  {
   "cell_type": "code",
   "execution_count": null,
   "metadata": {},
   "outputs": [],
   "source": [
    "def overlay_segments(segments, colors):\n",
    "    \"\"\"\n",
    "    Overlay binary masks onto a blank image with specified colors.\n",
    "\n",
    "    :param masks: List of binary masks (numpy arrays).\n",
    "    :param colors: List of colors corresponding to each mask.\n",
    "    :return: Image with masks overlaid.\n",
    "    \"\"\"\n",
    "    # Create a blank image\n",
    "\n",
    "    final_images = np.zeros(segments.T.shape[:-1] + (3,), dtype=np.uint8)\n",
    "\n",
    "    for segment, color in zip(segments, colors):\n",
    "        for i, slice in enumerate(segment.T):\n",
    "            bgr_image = cv2.cvtColor(slice, cv2.COLOR_GRAY2BGR)\n",
    "            final_images[i] += bgr_image * color\n",
    "\n",
    "    return final_images"
   ]
  },
  {
   "cell_type": "code",
   "execution_count": null,
   "metadata": {},
   "outputs": [],
   "source": [
    "pattern = re.compile(\"^Segment\\d+\")\n",
    "\n",
    "for vol_path, seg_path in zip(vol_paths, seg_paths):\n",
    "    print(f\"Name: {os.path.splitext(os.path.basename(vol_path))[0]}\")\n",
    "\n",
    "    vol = tif.imread(vol_path)\n",
    "    seg, header = nrrd.read(seg_path)\n",
    "    print(f\"TIFF type: {type(vol)}, TIFF shape: {vol.shape}, SEG.NRRD type: {type(seg)}, SEG.NRRD shape: {seg.shape}\")\n",
    "\n",
    "    segment_colors = {k.split(\"_\")[0]: v for k, v in header.items() if k.endswith(\"Color\")}\n",
    "    print(f\"segment_colors: {segment_colors}\")\n",
    "\n",
    "    sorted_color_map = sorted(segment_colors.items(), key=lambda x: natural_sort_key(x[0]))\n",
    "    print(f\"sorted_color_map: {sorted_color_map}\")\n",
    "\n",
    "    _, sorted_colors = list(zip(*sorted_color_map))\n",
    "    print(f\"sorted_colors: {sorted_colors}\")\n",
    "\n",
    "    rgb_colors = np.array([[round(255.*float(c)) for c in i.split(\" \")] for i in sorted_colors], dtype=np.uint8)\n",
    "    print(f\"rgb_colors: {rgb_colors}\")\n",
    "\n",
    "    seg_vol = overlay_segments(seg, rgb_colors)\n",
    "\n",
    "    for seg_slice, vol_slice in zip(seg_vol, vol):\n",
    "        f, ax = plt.subplots(1,2, figsize=(25,14))\n",
    "        ax[0].imshow(seg_slice)\n",
    "        ax[1].imshow(vol_slice, cmap=\"gray\")\n",
    "\n",
    "    "
   ]
  },
  {
   "cell_type": "code",
   "execution_count": null,
   "metadata": {},
   "outputs": [],
   "source": []
  },
  {
   "cell_type": "code",
   "execution_count": null,
   "metadata": {},
   "outputs": [],
   "source": []
  }
 ],
 "metadata": {
  "kernelspec": {
   "display_name": "3DOCT",
   "language": "python",
   "name": "3doct"
  },
  "language_info": {
   "codemirror_mode": {
    "name": "ipython",
    "version": 3
   },
   "file_extension": ".py",
   "mimetype": "text/x-python",
   "name": "python",
   "nbconvert_exporter": "python",
   "pygments_lexer": "ipython3",
   "version": "3.9.13"
  }
 },
 "nbformat": 4,
 "nbformat_minor": 2
}
